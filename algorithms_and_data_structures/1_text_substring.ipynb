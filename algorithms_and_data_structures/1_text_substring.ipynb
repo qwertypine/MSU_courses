{
 "cells": [
  {
   "cell_type": "markdown",
   "metadata": {},
   "source": [
    "# Задача 1: Поиск подстроки в тексте"
   ]
  },
  {
   "cell_type": "markdown",
   "metadata": {},
   "source": [
    "## Трифонов Никита Дмитриевич\n",
    "\n",
    "trifonov28rus@gmail.com  \n",
    "tg: @qwertypine"
   ]
  },
  {
   "cell_type": "markdown",
   "metadata": {},
   "source": [
    "## Формулировка\n",
    "\n",
    "Реализовать алгоритм поиска подстроки в тексте.\n",
    " \n",
    "Есть английский текст, два алгоритма: линейный поиск и алгоритм Рабина-Карпа."
   ]
  },
  {
   "cell_type": "markdown",
   "metadata": {},
   "source": [
    "__Результат:__  \n",
    "1. Графики зависисмости времени от размера текста при фикстированной строке поиска\n",
    "2. Графики графики зависимости времени от размера строки при фиксированном тексте"
   ]
  },
  {
   "cell_type": "markdown",
   "metadata": {},
   "source": [
    "## Чтение данных  \n",
    "Для работы возьмем txt-файл с книгой Джорджа Оруэлла \"1984\", английский текст"
   ]
  },
  {
   "cell_type": "code",
   "execution_count": 1,
   "metadata": {},
   "outputs": [],
   "source": [
    "import numpy as np\n",
    "import pandas as pd\n",
    "import matplotlib.pyplot as plt"
   ]
  },
  {
   "cell_type": "code",
   "execution_count": 2,
   "metadata": {},
   "outputs": [],
   "source": [
    "with open('1_Orwell_George_1984.txt', 'r') as file:\n",
    "    data = file.read().replace('\\n', '')"
   ]
  },
  {
   "cell_type": "code",
   "execution_count": 3,
   "metadata": {},
   "outputs": [
    {
     "data": {
      "text/plain": [
       "str"
      ]
     },
     "execution_count": 3,
     "metadata": {},
     "output_type": "execute_result"
    }
   ],
   "source": [
    "type(data)"
   ]
  },
  {
   "cell_type": "code",
   "execution_count": 4,
   "metadata": {},
   "outputs": [
    {
     "data": {
      "text/plain": [
       "558349"
      ]
     },
     "execution_count": 4,
     "metadata": {},
     "output_type": "execute_result"
    }
   ],
   "source": [
    "N = len(data)\n",
    "len(data)"
   ]
  },
  {
   "cell_type": "code",
   "execution_count": 5,
   "metadata": {},
   "outputs": [],
   "source": [
    "s = data[556780:556788]"
   ]
  },
  {
   "cell_type": "code",
   "execution_count": 6,
   "metadata": {},
   "outputs": [
    {
     "name": "stdout",
     "output_type": "stream",
     "text": [
      "The rock\n"
     ]
    }
   ],
   "source": [
    "print(s) # строка которую ищем"
   ]
  },
  {
   "cell_type": "markdown",
   "metadata": {},
   "source": [
    "# Реализация алгоритмов"
   ]
  },
  {
   "cell_type": "markdown",
   "metadata": {},
   "source": [
    "> По традиции шаблон поиска или образец принято обозначать как needle (англ. «иголка»), а строку, в которой ведётся поиск — как haystack (англ. «стог сена»)."
   ]
  },
  {
   "cell_type": "code",
   "execution_count": 7,
   "metadata": {},
   "outputs": [],
   "source": [
    "needle = s # строка\n",
    "haystack = data # подстрока которую ищем"
   ]
  },
  {
   "cell_type": "markdown",
   "metadata": {},
   "source": [
    "### Линейный поиск"
   ]
  },
  {
   "cell_type": "markdown",
   "metadata": {},
   "source": [
    "Простейший алгоритм поиска подстроки в строке."
   ]
  },
  {
   "cell_type": "code",
   "execution_count": 8,
   "metadata": {},
   "outputs": [],
   "source": [
    "def LinearSearch(haystack, needle):\n",
    "    index = -1\n",
    "    for i in range(len(haystack)-len(needle)+1):\n",
    "        success = True\n",
    "        for j in range(len(needle)):\n",
    "            #if (needle[j]<>haystack[i+j]):\n",
    "            if (needle[j]!=haystack[i+j]):\n",
    "                success = False\n",
    "                break\n",
    "        if success:\n",
    "            index = i\n",
    "            break\n",
    "    return index"
   ]
  },
  {
   "cell_type": "markdown",
   "metadata": {},
   "source": [
    "Сложность алгоритма в худшем случае $O(nm)$, в лучшем случае — $О(m)$."
   ]
  },
  {
   "cell_type": "code",
   "execution_count": 10,
   "metadata": {},
   "outputs": [],
   "source": [
    "def LinearSearch_all(haystack, needle):\n",
    "    \n",
    "    result = []\n",
    "    start = 0\n",
    "    tmp = 0\n",
    "    while True:\n",
    "        start = LinearSearch(haystack[tmp:], needle)\n",
    "        tmp = tmp + start\n",
    "        if start == -1: \n",
    "            return result\n",
    "        result.append(tmp) \n",
    "        tmp += len(needle) # use start += 1 to find overlapping matches"
   ]
  },
  {
   "cell_type": "code",
   "execution_count": 11,
   "metadata": {},
   "outputs": [
    {
     "data": {
      "text/plain": [
       "[274757, 285045, 556780]"
      ]
     },
     "execution_count": 11,
     "metadata": {},
     "output_type": "execute_result"
    }
   ],
   "source": [
    "LinearSearch_all(haystack, 'The rock')"
   ]
  },
  {
   "cell_type": "code",
   "execution_count": 12,
   "metadata": {},
   "outputs": [
    {
     "data": {
      "text/plain": [
       "\"\\ndef find_all(a_str, sub):\\n    start = 0\\n    while True:\\n        start = a_str.find(sub, start)\\n        if start == -1: return\\n        yield start\\n        start += len(sub) # use start += 1 to find overlapping matches\\n\\nlist(find_all(haystack, 'The ')) # [0, 5, 10, 15]\\n\\n\""
      ]
     },
     "execution_count": 12,
     "metadata": {},
     "output_type": "execute_result"
    }
   ],
   "source": [
    "\"\"\"\n",
    "def find_all(a_str, sub):\n",
    "    start = 0\n",
    "    while True:\n",
    "        start = a_str.find(sub, start)\n",
    "        if start == -1: return\n",
    "        yield start\n",
    "        start += len(sub) # use start += 1 to find overlapping matches\n",
    "\n",
    "list(find_all(haystack, 'The ')) # [0, 5, 10, 15]\n",
    "\n",
    "\"\"\""
   ]
  },
  {
   "cell_type": "markdown",
   "metadata": {},
   "source": [
    "### Алгоритм Рабина — Карпа"
   ]
  },
  {
   "cell_type": "markdown",
   "metadata": {},
   "source": [
    "_Алгоритм Рабина — Карпа_ — это алгоритм поиска строки, который ищет шаблон, то есть подстроку, в тексте, используя хеширование. Он был разработан в 1987 году Майклом Рабином и Ричардом Карпом. \n",
    "\n",
    "Алгоритм Рабина — Карпа пытается ускорить проверку эквивалентности образца с подстроками в тексте, используя хеш-функцию.  \n",
    "_Хеш-функция_ — это функция, преобразующая каждую строку в числовое значение, называемое хеш-значением (хеш); например, мы можем иметь хеш от строки «hello» равным 5. Алгоритм использует тот факт, что если две строки одинаковы, то и их хеш-значения также одинаковы. Таким образом, всё что нам нужно, это посчитать хеш-значение искомой подстроки и затем найти подстроку с таким же хеш-значением.\n",
    "\n",
    "Однако существуют две проблемы, связанные с этим. Первая состоит в том, что, так как существует очень много различных строк, между двумя различными строками может произойти коллизия — совпадение их хешей. В таких случаях необходимо посимвольно проверять совпадение самих подстрок, что занимает достаточно много времени, если данные подстроки имеют большую длину (эту проверку делать не нужно, если ваше приложение допускает ложные срабатывания). При использовании достаточно хороших хеш-функций (смотрите далее) коллизии случаются крайне редко, и в результате среднее время поиска оказывается невелико."
   ]
  },
  {
   "cell_type": "markdown",
   "metadata": {},
   "source": [
    " __Образец псевдокода:__\n",
    " \n",
    " ```\n",
    " \n",
    "     1 function RabinKarp(string s[1..n], string sub[1..m])\n",
    "     2     hsub := hash(sub[1..m])\n",
    "     3     hs := hash(s[1..m])\n",
    "     4     for i from 1 to (n-m+1)\n",
    "     5         if hs = hsub\n",
    "     6             if s[i..i+m-1] = sub\n",
    "     7                 return i\n",
    "     8         hs := hash(s[i+1..i+m])\n",
    "     9     return not found\n",
    "\n",
    "```\n",
    "\n",
    "Строки 2, 3, и 6 затрачивают для исполнения время $O(m)$ каждая. Однако строки 2 и 3 исполняются только один раз, а строка 6 выполняется только когда хеш-значения совпадают, что происходит нечасто. Строка 5 выполняется $n$ раз, но всегда требует постоянного времени."
   ]
  },
  {
   "attachments": {
    "image.png": {
     "image/png": "[encoded data removed]"
    }
   },
   "cell_type": "markdown",
   "metadata": {},
   "source": [
    "__Используемая хеш-функция__  \n",
    "Ключами к производительности алгоритма Рабина — Карпа являются низкая вероятность коллизий и эффективное вычисление хеш-значения последовательных подстрок текста. Рабин и Карп[1] предложили использовать так называемый полиномиальный хеш (хотя любой другой кольцевой хеш также подойдёт). Для данного шаблона {\\displaystyle p[1..m]}{\\displaystyle p[1..m]} такой хеш определён следующим образом:  \n",
    "![image.png](attachment:image.png)  \n",
    "\n",
    "где $q$ — некоторое простое число, а $x$ — число от $0$ до $q-1$.  \n",
    "\n",
    "Например, пусть $x=101$, $q$ произвольно, и мы имеем текст «abracadabra» и ищем образец длины 3. Мы можем рассчитать хеш подстроки «bra» из хеша подстроки «abr» (предыдущая подстрока), вычитая число, добавленное для первой буквы 'a' из «abr», то есть $ 97 \\times 101^{2}$ ($97$ — ASCII для 'a'), умножая на основание $101$ и, наконец, добавляя последнее число для «bra», то есть $ 97\\times 101^{0}=97 $. Чтобы избежать переполнения целых чисел, в большинстве реализаций после каждой из этих четырёх операций (умножение при вычислении $97\\times 101^{2}$ — это отдельная операция) нужно брать результат по модулю $q$.  \n",
    "\n",
    "Современная модификация полиномиального хеша, предложенная Дитзфелбингером и др., лишена этих недостатков. Отличие этого варианта в том, что простое число $q$ фиксируется, а число $x$ случайно выбирается из диапазона от $0$ до $q-1$ перед началом работы алгоритма (при этом $x$ совсем не обязательно должно быть простым)."
   ]
  },
  {
   "cell_type": "code",
   "execution_count": 13,
   "metadata": {},
   "outputs": [],
   "source": [
    "def RabinKarp(text, pattern, d, q):\n",
    "    n = len(text)\n",
    "    m = len(pattern)\n",
    "    h = pow(d,m-1)%q\n",
    "    p = 0\n",
    "    t = 0\n",
    "    result = []\n",
    "    for i in range(m): # preprocessing (хеширование) сложность O(m)\n",
    "        p = (d*p+ord(pattern[i]))%q   # ord(chr) - возвращает числовое представление для указанного символа.\n",
    "        t = (d*t+ord(text[i]))%q\n",
    "        \n",
    "    for s in range(n-m+1): # note the +1\n",
    "        if (p==t): # check character by character\n",
    "            match = True\n",
    "            for i in range(m):\n",
    "                if pattern[i] != text[s+i]:\n",
    "                    match = False\n",
    "                    break\n",
    "            if match:\n",
    "                result = result + [s]\n",
    "        if (s<n-m):\n",
    "            t = (t-h*ord(text[s]))%q # remove letter s\n",
    "            t = (t*d+ord(text[s+m]))%q # add letter s+m\n",
    "            t = (t+q)%q # make sure that t >= 0\n",
    "            \n",
    "    return result"
   ]
  },
  {
   "cell_type": "code",
   "execution_count": 14,
   "metadata": {},
   "outputs": [
    {
     "name": "stdout",
     "output_type": "stream",
     "text": [
      "310 µs ± 25.8 µs per loop (mean ± std. dev. of 7 runs, 1000 loops each)\n"
     ]
    }
   ],
   "source": [
    "%timeit haystack.find(needle)"
   ]
  },
  {
   "cell_type": "code",
   "execution_count": 15,
   "metadata": {},
   "outputs": [
    {
     "name": "stdout",
     "output_type": "stream",
     "text": [
      "113 ms ± 2.52 ms per loop (mean ± std. dev. of 7 runs, 10 loops each)\n"
     ]
    }
   ],
   "source": [
    "%timeit LinearSearch(haystack, needle)"
   ]
  },
  {
   "cell_type": "code",
   "execution_count": 16,
   "metadata": {},
   "outputs": [
    {
     "name": "stdout",
     "output_type": "stream",
     "text": [
      "342 ms ± 15.8 ms per loop (mean ± std. dev. of 7 runs, 1 loop each)\n"
     ]
    }
   ],
   "source": [
    "%timeit RabinKarp(haystack, needle,  256, 3)"
   ]
  },
  {
   "cell_type": "code",
   "execution_count": 17,
   "metadata": {},
   "outputs": [
    {
     "name": "stdout",
     "output_type": "stream",
     "text": [
      "298 ms ± 9.09 ms per loop (mean ± std. dev. of 7 runs, 1 loop each)\n"
     ]
    }
   ],
   "source": [
    "%timeit RabinKarp(haystack, needle,  11, 8)"
   ]
  },
  {
   "cell_type": "code",
   "execution_count": 18,
   "metadata": {},
   "outputs": [
    {
     "data": {
      "text/plain": [
       "'\\ndef TimeMeanStd(func):\\n    tmp = []\\n    for i in range(7):\\n        t = process_time()\\n        func\\n        elapsed_time = process_time() - t\\n        tmp.append(elapsed_time)\\n    return tmp\\n'"
      ]
     },
     "execution_count": 18,
     "metadata": {},
     "output_type": "execute_result"
    }
   ],
   "source": [
    "\"\"\"\n",
    "def TimeMeanStd(func):\n",
    "    tmp = []\n",
    "    for i in range(7):\n",
    "        t = process_time()\n",
    "        func\n",
    "        elapsed_time = process_time() - t\n",
    "        tmp.append(elapsed_time)\n",
    "    return tmp\n",
    "\"\"\"\n",
    "# не работает - разобраться почему"
   ]
  },
  {
   "cell_type": "code",
   "execution_count": 19,
   "metadata": {},
   "outputs": [
    {
     "name": "stdout",
     "output_type": "stream",
     "text": [
      "8\n",
      "558349\n",
      "274757\n"
     ]
    }
   ],
   "source": [
    "print(len(needle))\n",
    "print(len(data))\n",
    "print(data.find(needle))"
   ]
  },
  {
   "cell_type": "code",
   "execution_count": 20,
   "metadata": {},
   "outputs": [],
   "source": [
    "haystack_cut = np.array([1, 5, 10, 15, 20, 30, 40, 50])*10000\n",
    "#needle_cut = (np.array([1, 5, 10, 20, 30, 40, 50, 70])*(len(s)/100)).astype(int)\n",
    "needle_cut = np.arange(0,8)"
   ]
  },
  {
   "cell_type": "markdown",
   "metadata": {},
   "source": [
    "### Фиксированная длина строки"
   ]
  },
  {
   "cell_type": "markdown",
   "metadata": {},
   "source": [
    "Обрезаем текст"
   ]
  },
  {
   "cell_type": "code",
   "execution_count": 21,
   "metadata": {},
   "outputs": [],
   "source": [
    "from time import process_time\n",
    "from tqdm import tqdm"
   ]
  },
  {
   "cell_type": "code",
   "execution_count": 22,
   "metadata": {},
   "outputs": [
    {
     "name": "stderr",
     "output_type": "stream",
     "text": [
      "100%|██████████████████████████████████████████████████████████████████████████████████| 10/10 [00:22<00:00,  2.28s/it]\n",
      "100%|██████████████████████████████████████████████████████████████████████████████████| 10/10 [00:21<00:00,  2.13s/it]\n",
      "100%|██████████████████████████████████████████████████████████████████████████████████| 10/10 [00:19<00:00,  1.91s/it]\n",
      "100%|██████████████████████████████████████████████████████████████████████████████████| 10/10 [00:17<00:00,  1.74s/it]\n",
      "100%|██████████████████████████████████████████████████████████████████████████████████| 10/10 [00:15<00:00,  1.51s/it]\n",
      "100%|██████████████████████████████████████████████████████████████████████████████████| 10/10 [00:10<00:00,  1.07s/it]\n",
      "100%|██████████████████████████████████████████████████████████████████████████████████| 10/10 [00:06<00:00,  1.48it/s]\n",
      "100%|██████████████████████████████████████████████████████████████████████████████████| 10/10 [00:02<00:00,  4.13it/s]\n"
     ]
    }
   ],
   "source": [
    "time_mean_str_ls = []\n",
    "time_std_str_ls = []\n",
    "\n",
    "for i in haystack_cut:\n",
    "    haystack_cuted = haystack[i:]\n",
    "    \n",
    "    tmp = []\n",
    "    \n",
    "    for j in tqdm(range(10)): # число циклов\n",
    "        t = process_time()\n",
    "        \n",
    "        for k in range(10):\n",
    "            LinearSearch_all(haystack_cuted, needle)\n",
    "            \n",
    "        elapsed_time = process_time() - t\n",
    "        tmp.append(elapsed_time/10)\n",
    "        \n",
    "    time_mean_str_ls.append(np.mean(tmp))\n",
    "    time_std_str_ls.append(np.std(tmp))"
   ]
  },
  {
   "cell_type": "markdown",
   "metadata": {},
   "source": [
    "прогоняем, потом делим на 10"
   ]
  },
  {
   "cell_type": "code",
   "execution_count": 23,
   "metadata": {},
   "outputs": [
    {
     "name": "stderr",
     "output_type": "stream",
     "text": [
      "100%|██████████████████████████████████████████████████████████████████████████████████| 10/10 [00:37<00:00,  3.72s/it]\n",
      "100%|██████████████████████████████████████████████████████████████████████████████████| 10/10 [00:33<00:00,  3.37s/it]\n",
      "100%|██████████████████████████████████████████████████████████████████████████████████| 10/10 [00:30<00:00,  3.06s/it]\n",
      "100%|██████████████████████████████████████████████████████████████████████████████████| 10/10 [00:27<00:00,  2.77s/it]\n",
      "100%|██████████████████████████████████████████████████████████████████████████████████| 10/10 [00:23<00:00,  2.34s/it]\n",
      "100%|██████████████████████████████████████████████████████████████████████████████████| 10/10 [00:16<00:00,  1.67s/it]\n",
      "100%|██████████████████████████████████████████████████████████████████████████████████| 10/10 [00:10<00:00,  1.02s/it]\n",
      "100%|██████████████████████████████████████████████████████████████████████████████████| 10/10 [00:03<00:00,  2.71it/s]\n"
     ]
    }
   ],
   "source": [
    "time_mean_str_rk = []\n",
    "time_std_str_rk = []\n",
    "\n",
    "for i in haystack_cut:\n",
    "    haystack_cuted = haystack[i:]\n",
    "    \n",
    "    tmp = []\n",
    "    \n",
    "    for j in tqdm(range(10)): # число циклов\n",
    "        t = process_time()\n",
    "        \n",
    "        for k in range(10):\n",
    "            RabinKarp(haystack_cuted, needle, 11,2)\n",
    "            \n",
    "        elapsed_time = process_time() - t\n",
    "        tmp.append(elapsed_time/10)\n",
    "        \n",
    "    time_mean_str_rk.append(np.mean(tmp))\n",
    "    time_std_str_rk.append(np.std(tmp))"
   ]
  },
  {
   "cell_type": "code",
   "execution_count": 24,
   "metadata": {},
   "outputs": [],
   "source": [
    "X1 = np.array([N]*len(haystack_cut)) - haystack_cut"
   ]
  },
  {
   "cell_type": "markdown",
   "metadata": {},
   "source": [
    "### Фиксированная длина текста"
   ]
  },
  {
   "cell_type": "markdown",
   "metadata": {},
   "source": [
    "Обрезаем строку"
   ]
  },
  {
   "cell_type": "code",
   "execution_count": 25,
   "metadata": {},
   "outputs": [
    {
     "data": {
      "text/plain": [
       "[274757, 285045, 556780]"
      ]
     },
     "execution_count": 25,
     "metadata": {},
     "output_type": "execute_result"
    }
   ],
   "source": [
    "list(LinearSearch_all(haystack, needle))"
   ]
  },
  {
   "cell_type": "code",
   "execution_count": 26,
   "metadata": {},
   "outputs": [
    {
     "name": "stderr",
     "output_type": "stream",
     "text": [
      "100%|██████████████████████████████████████████████████████████████████████████████████| 10/10 [00:23<00:00,  2.33s/it]\n",
      "100%|██████████████████████████████████████████████████████████████████████████████████| 10/10 [00:24<00:00,  2.41s/it]\n",
      "100%|██████████████████████████████████████████████████████████████████████████████████| 10/10 [00:24<00:00,  2.43s/it]\n",
      "100%|██████████████████████████████████████████████████████████████████████████████████| 10/10 [00:24<00:00,  2.44s/it]\n",
      "100%|██████████████████████████████████████████████████████████████████████████████████| 10/10 [00:24<00:00,  2.40s/it]\n",
      "100%|██████████████████████████████████████████████████████████████████████████████████| 10/10 [00:23<00:00,  2.38s/it]\n",
      "100%|██████████████████████████████████████████████████████████████████████████████████| 10/10 [00:26<00:00,  2.65s/it]\n",
      "100%|██████████████████████████████████████████████████████████████████████████████████| 10/10 [00:38<00:00,  3.82s/it]\n"
     ]
    }
   ],
   "source": [
    "time_mean_text_ls = []\n",
    "time_std_text_ls = []\n",
    "\n",
    "for i in needle_cut:\n",
    "    needle_cuted = needle[i:]\n",
    "    \n",
    "    tmp = []\n",
    "    \n",
    "    for j in tqdm(range(10)): # число циклов\n",
    "        t = process_time()\n",
    "        \n",
    "        for k in range(10):\n",
    "            LinearSearch_all(haystack, needle_cuted)\n",
    "        \n",
    "        elapsed_time = process_time() - t\n",
    "        tmp.append(elapsed_time/10)\n",
    "        \n",
    "    time_mean_text_ls.append(np.mean(tmp))\n",
    "    time_std_text_ls.append(np.std(tmp))"
   ]
  },
  {
   "cell_type": "code",
   "execution_count": 27,
   "metadata": {},
   "outputs": [
    {
     "name": "stderr",
     "output_type": "stream",
     "text": [
      "100%|██████████████████████████████████████████████████████████████████████████████████| 10/10 [00:38<00:00,  3.81s/it]\n",
      "100%|██████████████████████████████████████████████████████████████████████████████████| 10/10 [00:38<00:00,  3.88s/it]\n",
      "100%|██████████████████████████████████████████████████████████████████████████████████| 10/10 [00:38<00:00,  3.86s/it]\n",
      "100%|██████████████████████████████████████████████████████████████████████████████████| 10/10 [00:38<00:00,  3.88s/it]\n",
      "100%|██████████████████████████████████████████████████████████████████████████████████| 10/10 [00:38<00:00,  3.82s/it]\n",
      "100%|██████████████████████████████████████████████████████████████████████████████████| 10/10 [00:38<00:00,  3.85s/it]\n",
      "100%|██████████████████████████████████████████████████████████████████████████████████| 10/10 [00:36<00:00,  3.64s/it]\n",
      "100%|██████████████████████████████████████████████████████████████████████████████████| 10/10 [00:38<00:00,  3.88s/it]\n"
     ]
    }
   ],
   "source": [
    "time_mean_text_rk = []\n",
    "time_std_text_rk = []\n",
    "\n",
    "for i in needle_cut:\n",
    "    needle_cuted = needle[i:]\n",
    "    \n",
    "    tmp = []\n",
    "    \n",
    "    for j in tqdm(range(10)): # число циклов\n",
    "        t = process_time()\n",
    "        \n",
    "        for k in range(10):\n",
    "            RabinKarp(haystack, needle_cuted, 11, 2)\n",
    "            \n",
    "        elapsed_time = process_time() - t\n",
    "        tmp.append(elapsed_time/10)\n",
    "        \n",
    "    time_mean_text_rk.append(np.mean(tmp))\n",
    "    time_std_text_rk.append(np.std(tmp))"
   ]
  },
  {
   "cell_type": "code",
   "execution_count": 28,
   "metadata": {},
   "outputs": [],
   "source": [
    "X2 = np.array([len(needle)]*len(needle_cut)) - needle_cut"
   ]
  },
  {
   "cell_type": "markdown",
   "metadata": {},
   "source": [
    "# Итоги"
   ]
  },
  {
   "cell_type": "code",
   "execution_count": 29,
   "metadata": {},
   "outputs": [
    {
     "data": {
      "text/plain": [
       "Text(0.5, 1.0, 'const needle')"
      ]
     },
     "execution_count": 29,
     "metadata": {},
     "output_type": "execute_result"
    },
    {
     "data": {
      "image/png": "[encoded data removed]",
      "text/plain": [
       "<Figure size 1440x720 with 1 Axes>"
      ]
     },
     "metadata": {
      "needs_background": "light"
     },
     "output_type": "display_data"
    }
   ],
   "source": [
    "# фиксированная подстрока\n",
    "plt.figure(figsize=(20,10))\n",
    "plt.errorbar(X1, time_mean_str_ls, yerr=time_std_str_ls, fmt='o-', ecolor='red', label='LS')\n",
    "plt.errorbar(X1, time_mean_str_rk, yerr=time_std_str_rk, fmt='o-', color='green', ecolor='red', label='RK')\n",
    "plt.legend(loc='upper left', fontsize=15)\n",
    "plt.xticks(fontsize=15)\n",
    "plt.yticks(fontsize=15)\n",
    "plt.ylabel('time, ms', fontsize=15)\n",
    "plt.xlabel('haystack len, n. symbols', fontsize=15)\n",
    "plt.title('const needle', fontsize=25)"
   ]
  },
  {
   "cell_type": "code",
   "execution_count": 30,
   "metadata": {},
   "outputs": [
    {
     "data": {
      "text/plain": [
       "Text(0.5, 1.0, 'Const haystack')"
      ]
     },
     "execution_count": 30,
     "metadata": {},
     "output_type": "execute_result"
    },
    {
     "data": {
      "image/png": "[encoded data removed]",
      "text/plain": [
       "<Figure size 1440x720 with 1 Axes>"
      ]
     },
     "metadata": {
      "needs_background": "light"
     },
     "output_type": "display_data"
    }
   ],
   "source": [
    "# фиксированный текст\n",
    "plt.figure(figsize=(20,10))\n",
    "plt.errorbar(X2, time_mean_text_ls, yerr=time_std_text_ls, fmt='o-', ecolor='red', label='LS')\n",
    "plt.errorbar(X2, time_mean_text_rk, yerr=time_std_text_rk, fmt='o-', color='green', ecolor='red', label='RK')\n",
    "plt.legend(loc='upper left', fontsize=15)\n",
    "plt.xticks(X2, fontsize=15)\n",
    "plt.yticks(fontsize=15)\n",
    "plt.ylabel('Time, ms', fontsize=15)\n",
    "plt.xlabel('Needle len, n. symbols', fontsize=15)\n",
    "plt.title('Const haystack', fontsize=25)"
   ]
  },
  {
   "cell_type": "markdown",
   "metadata": {},
   "source": [
    "## Вывод\n",
    "В среднем, для текстов метод Рабина-Карпа не даёт выигрыша, кроме того, даже\n",
    "может оказаться, что грубая сила (первый метод) лучше. В случае с нуклеиновыми кислотами\n",
    "этот метод оказывается выигрышнее. При большом алфавите метод грубой силы оказывается\n",
    "лучше, так как очень маловероятно сравнивать далее, чем 2 символа. Поэтому Рабин-Карп\n",
    "лучше для малых алфавитов."
   ]
  },
  {
   "cell_type": "markdown",
   "metadata": {},
   "source": [
    "РК с простейшим суммированием "
   ]
  },
  {
   "cell_type": "markdown",
   "metadata": {},
   "source": [
    "__4 задача:__  \n",
    "\n",
    "QuickSort сравнить рекурсивный с нерекурсивным по времени  \n",
    "\n",
    "! Выбор первой ветки рекурсии (1я более короткая)  "
   ]
  },
  {
   "cell_type": "code",
   "execution_count": null,
   "metadata": {},
   "outputs": [],
   "source": []
  }
 ],
 "metadata": {
  "kernelspec": {
   "display_name": "Python 3",
   "language": "python",
   "name": "python3"
  },
  "language_info": {
   "codemirror_mode": {
    "name": "ipython",
    "version": 3
   },
   "file_extension": ".py",
   "mimetype": "text/x-python",
   "name": "python",
   "nbconvert_exporter": "python",
   "pygments_lexer": "ipython3",
   "version": "3.7.6"
  }
 },
 "nbformat": 4,
 "nbformat_minor": 4
}
